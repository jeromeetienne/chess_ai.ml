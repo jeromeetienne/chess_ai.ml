{
  "cells": [
    {
      "cell_type": "markdown",
      "metadata": {
        "id": "QVFp7SLbvY2v"
      },
      "source": [
        "# Basic Python\n",
        "\n",
        "Python is a high level general purpose programming language. Python is easy to read, understand and learn.\n",
        "\n",
        "You can run python code in different ways:\n",
        "\n",
        "* Python interpreter: line-by-line in a shell (like an advanced calculator)\n",
        "* IPython intepreter: **I**nteractive Python shell (with syntax highlighting etc)\n",
        "* Script: run all your code in a txt-file\n",
        "* Jupyter notebook: interactive web-based environment for combining text, code and plots\n",
        "\n",
        "We will use Jupyter notebooks in this course."
      ]
    },
    {
      "cell_type": "markdown",
      "metadata": {
        "id": "qUplnZghvY2x"
      },
      "source": [
        "## Jupyter\n",
        "\n",
        "A cell in jupyter is either \"code\" or \"markdown\". See [markdown cheat sheet](https://www.markdownguide.org/cheat-sheet/) for help on writing markdown text.\n",
        "\n",
        "You will be navigating Jupyter cells alot so it's important to learn a few [keyboard shortcuts](https://www.dataday.life/notes/jupyter-notebooks/cheat-sheet-jupyter-notebook-keyboard-shortcuts/):\n",
        "\n",
        "* 'Ctrl'+'Enter': run cell\n",
        "* 'Shift'+'Enter': run cell and jump to next\n",
        "\n",
        "You can exit \"edit mode\" (and enter \"command mode\") by pressing 'Esc', you can now press:\n",
        "\n",
        "* 'a': insert cell above\n",
        "* 'b': insert cell below\n",
        "* 'm': change cell to markdown\n",
        "* 'y': change cell to code\n",
        "* 'd'+'d': delete cell"
      ]
    },
    {
      "cell_type": "markdown",
      "metadata": {
        "id": "DOzW9jaWvY2x"
      },
      "source": [
        "### Code completion and help\n",
        "\n",
        "Jupyter lab can help you complete Python code, if you press \"tab\". If you have your cursor on a function, you can get the function signature by pressing \"shift\"+\"tab\"."
      ]
    },
    {
      "cell_type": "code",
      "execution_count": null,
      "metadata": {
        "id": "JyBYH0ArvY2x",
        "outputId": "2960293e-e5ab-4d3b-f90d-66edc5ae6e3a"
      },
      "outputs": [
        {
          "name": "stdout",
          "output_type": "stream",
          "text": [
            "\u001b[0;31mDocstring:\u001b[0m\n",
            "Return the current working directory path.\n",
            "\n",
            "Examples\n",
            "--------\n",
            "::\n",
            "\n",
            "  In [9]: pwd\n",
            "  Out[9]: '/home/tsuser/sprint/ipython'\n",
            "\u001b[0;31mFile:\u001b[0m      ~/src/getting-started-with-mikeio/.venv/lib/python3.10/site-packages/IPython/core/magics/osm.py"
          ]
        }
      ],
      "source": [
        "# You can get help by writting ? before or after a function/variable\n",
        "pwd?"
      ]
    },
    {
      "cell_type": "markdown",
      "metadata": {
        "id": "lMUy7_HwvY2y"
      },
      "source": [
        "### Current working directory\n",
        "\n",
        "When reading (or writing) files from the local file system, it is important to know your current path. You you print the current path by the command pwd:"
      ]
    },
    {
      "cell_type": "code",
      "execution_count": null,
      "metadata": {
        "id": "6LsBCO06vY2y",
        "outputId": "6a02bd17-f2c6-4c7e-cc4d-313def23b565"
      },
      "outputs": [
        {
          "data": {
            "text/plain": [
              "'/home/jan/src/getting-started-with-mikeio/mini_book'"
            ]
          },
          "execution_count": 21,
          "metadata": {},
          "output_type": "execute_result"
        }
      ],
      "source": [
        "pwd"
      ]
    },
    {
      "cell_type": "markdown",
      "metadata": {
        "id": "5lG3f2GBvY2z"
      },
      "source": [
        "We recommend that you start jupyter from the \"mini_book\" folder in this course as it will make the relative paths to the data files work."
      ]
    },
    {
      "cell_type": "markdown",
      "metadata": {
        "id": "wDwW2CWCvY2z"
      },
      "source": [
        "### Windows paths\n",
        "\n",
        "Backslash \\\\ is used to separate folders in Windows. In Python strings, backslash \\\\ is an escape character. You can write windows paths in Python the following ways:\n",
        "\n",
        "* use \"raw-string\" representation by pre-fixing the string with r, like this: r\"folder\\file.ext\"\n",
        "* use slash \"/\" (as on linux and http), like this: \"folder/file.ext\"\n",
        "* use double backslash, like this: \"folder\\\\\\\\\\file.ext\"\n",
        "\n",
        "We recommend using slash \"/\" where possible as it also works on linux."
      ]
    },
    {
      "cell_type": "markdown",
      "metadata": {
        "id": "M5G3yqEYvY2z"
      },
      "source": [
        "## Variables"
      ]
    },
    {
      "cell_type": "code",
      "execution_count": null,
      "metadata": {
        "id": "qycDRwgnvY2z",
        "outputId": "ed0d8e61-79b3-4e77-ae14-e5359d7df54f"
      },
      "outputs": [
        {
          "data": {
            "text/plain": [
              "2.2"
            ]
          },
          "execution_count": 22,
          "metadata": {},
          "output_type": "execute_result"
        }
      ],
      "source": [
        "var1 = 2.2\n",
        "var1"
      ]
    },
    {
      "cell_type": "code",
      "execution_count": null,
      "metadata": {
        "id": "NdvHLaY_vY2z"
      },
      "outputs": [],
      "source": [
        "var2 = var1"
      ]
    },
    {
      "cell_type": "code",
      "execution_count": null,
      "metadata": {
        "id": "6wQLfR06vY2z",
        "outputId": "452302c7-af6e-4bba-e3ea-85614a9e3829"
      },
      "outputs": [
        {
          "data": {
            "text/plain": [
              "'3.3'"
            ]
          },
          "execution_count": 24,
          "metadata": {},
          "output_type": "execute_result"
        }
      ],
      "source": [
        "var2 = \"3.3\"    # now changed type\n",
        "var2"
      ]
    },
    {
      "cell_type": "code",
      "execution_count": null,
      "metadata": {
        "id": "uqgWnTQBvY2z",
        "outputId": "b8a06670-398e-42de-bbe1-86fe6785d7ee"
      },
      "outputs": [
        {
          "data": {
            "text/plain": [
              "2.2"
            ]
          },
          "execution_count": 25,
          "metadata": {},
          "output_type": "execute_result"
        }
      ],
      "source": [
        "var1     # var1 stays the same, when we change var2 (numeric type)"
      ]
    },
    {
      "cell_type": "code",
      "execution_count": null,
      "metadata": {
        "id": "nGXRiO7ovY20",
        "outputId": "adbbe6f0-9eed-45be-dc45-15de7d895292"
      },
      "outputs": [
        {
          "data": {
            "text/plain": [
              "float"
            ]
          },
          "execution_count": 26,
          "metadata": {},
          "output_type": "execute_result"
        }
      ],
      "source": [
        "type(var1)"
      ]
    },
    {
      "cell_type": "markdown",
      "metadata": {
        "id": "EakAaU_VvY20"
      },
      "source": [
        "## Lists"
      ]
    },
    {
      "cell_type": "code",
      "execution_count": null,
      "metadata": {
        "id": "HZ4Dkel4vY20",
        "outputId": "091edd4c-fd3e-4200-d89f-1ce083cd3d91"
      },
      "outputs": [
        {
          "data": {
            "text/plain": [
              "[1.0, 2.0, 1.5]"
            ]
          },
          "execution_count": 27,
          "metadata": {},
          "output_type": "execute_result"
        }
      ],
      "source": [
        "# A list is created with [..,..]\n",
        "myvals = [1.0, 2.0, 1.5]\n",
        "myvals"
      ]
    },
    {
      "cell_type": "code",
      "execution_count": null,
      "metadata": {
        "id": "Ma0uvJW0vY20",
        "outputId": "f15aac78-6b96-40a3-841b-7d7c17f9f98c"
      },
      "outputs": [
        {
          "data": {
            "text/plain": [
              "1.0"
            ]
          },
          "execution_count": 28,
          "metadata": {},
          "output_type": "execute_result"
        }
      ],
      "source": [
        "myvals[0]"
      ]
    },
    {
      "cell_type": "code",
      "execution_count": null,
      "metadata": {
        "id": "CirUTwLbvY20"
      },
      "outputs": [],
      "source": [
        "myvals2 = myvals     # this is *not* a copy!"
      ]
    },
    {
      "cell_type": "code",
      "execution_count": null,
      "metadata": {
        "id": "e8gSt1aUvY20"
      },
      "outputs": [],
      "source": [
        "myvals2[1] = 3.3"
      ]
    },
    {
      "cell_type": "code",
      "execution_count": null,
      "metadata": {
        "id": "zdZGloEPvY20",
        "outputId": "b5101f03-75aa-4cd9-96cc-6a696ffd4de9"
      },
      "outputs": [
        {
          "data": {
            "text/plain": [
              "[1.0, 3.3, 1.5]"
            ]
          },
          "execution_count": 31,
          "metadata": {},
          "output_type": "execute_result"
        }
      ],
      "source": [
        "myvals     # myvals has also changed! (myvals and myvals2 reference the same object)"
      ]
    },
    {
      "cell_type": "code",
      "execution_count": null,
      "metadata": {
        "id": "URTbzG9PvY20",
        "outputId": "07b1a818-541e-48dd-a1b7-46c3f2b4001c"
      },
      "outputs": [
        {
          "data": {
            "text/plain": [
              "True"
            ]
          },
          "execution_count": 32,
          "metadata": {},
          "output_type": "execute_result"
        }
      ],
      "source": [
        "id(myvals) == id(myvals2)"
      ]
    },
    {
      "cell_type": "code",
      "execution_count": null,
      "metadata": {
        "id": "jKwOpjuSvY20"
      },
      "outputs": [],
      "source": [
        "# lists can contain all sorts of different variables\n",
        "stuff = [5, 3.0, \"MIKE ZERO\", b'a', [1,2]]"
      ]
    },
    {
      "cell_type": "code",
      "execution_count": null,
      "metadata": {
        "id": "g4jDDD3cvY20",
        "outputId": "850322db-f1d7-40de-f264-9df60121c852"
      },
      "outputs": [
        {
          "data": {
            "text/plain": [
              "int"
            ]
          },
          "execution_count": 34,
          "metadata": {},
          "output_type": "execute_result"
        }
      ],
      "source": [
        "type(stuff[0])"
      ]
    },
    {
      "cell_type": "markdown",
      "metadata": {
        "id": "1KrSjC2PvY20"
      },
      "source": [
        "## Tuple\n",
        "Tuples are similar to lists but immutable (once they are created they cannot be changed)."
      ]
    },
    {
      "cell_type": "code",
      "execution_count": null,
      "metadata": {
        "id": "gSUptjxNvY20",
        "outputId": "bcee4cba-04b3-4578-badc-a57795c0cd35"
      },
      "outputs": [
        {
          "data": {
            "text/plain": [
              "(34, 0.2, 'txt')"
            ]
          },
          "execution_count": 35,
          "metadata": {},
          "output_type": "execute_result"
        }
      ],
      "source": [
        "my_tuple = (34, 0.2, \"txt\")\n",
        "my_tuple"
      ]
    },
    {
      "cell_type": "code",
      "execution_count": null,
      "metadata": {
        "id": "PiK6lk9dvY20",
        "outputId": "f63d2e73-73af-4054-8c93-c700184097ce"
      },
      "outputs": [
        {
          "data": {
            "text/plain": [
              "'txt'"
            ]
          },
          "execution_count": 36,
          "metadata": {},
          "output_type": "execute_result"
        }
      ],
      "source": [
        "my_tuple[2]"
      ]
    },
    {
      "cell_type": "code",
      "execution_count": null,
      "metadata": {
        "id": "SUbuvHdnvY20"
      },
      "outputs": [],
      "source": [
        "# my_tuple[2] = 'new_txt'   # executing this line will fail"
      ]
    },
    {
      "cell_type": "markdown",
      "metadata": {
        "id": "7Uk-FX_RvY20"
      },
      "source": [
        "## Dictionary"
      ]
    },
    {
      "cell_type": "code",
      "execution_count": null,
      "metadata": {
        "id": "tQx_6G7bvY20",
        "outputId": "81efe4e7-a4a3-4cd5-e3d1-235b842476e3"
      },
      "outputs": [
        {
          "data": {
            "text/plain": [
              "{'banana': 4, 'apple': 7}"
            ]
          },
          "execution_count": 38,
          "metadata": {},
          "output_type": "execute_result"
        }
      ],
      "source": [
        "fruits = {'banana':4, 'apple':7}\n",
        "fruits"
      ]
    },
    {
      "cell_type": "code",
      "execution_count": null,
      "metadata": {
        "id": "VRaPHNaCvY20",
        "outputId": "62cae0d0-ef18-4527-892f-0de45e6ecded"
      },
      "outputs": [
        {
          "data": {
            "text/plain": [
              "{'banana': 4, 'apple': 7, 'orange': 9}"
            ]
          },
          "execution_count": 39,
          "metadata": {},
          "output_type": "execute_result"
        }
      ],
      "source": [
        "fruits['orange'] = 9\n",
        "fruits"
      ]
    },
    {
      "cell_type": "code",
      "execution_count": null,
      "metadata": {
        "id": "r3JwoyIEvY21",
        "outputId": "d21292f9-455d-4632-c9d4-1c8b06af0986"
      },
      "outputs": [
        {
          "data": {
            "text/plain": [
              "dict_keys(['banana', 'apple', 'orange'])"
            ]
          },
          "execution_count": 40,
          "metadata": {},
          "output_type": "execute_result"
        }
      ],
      "source": [
        "fruits.keys()"
      ]
    },
    {
      "cell_type": "code",
      "execution_count": null,
      "metadata": {
        "id": "rLW4CqyovY21",
        "outputId": "c28aa230-e9e0-43e9-b980-85f5f608f010"
      },
      "outputs": [
        {
          "data": {
            "text/plain": [
              "4"
            ]
          },
          "execution_count": 41,
          "metadata": {},
          "output_type": "execute_result"
        }
      ],
      "source": [
        "fruits['banana']"
      ]
    },
    {
      "cell_type": "code",
      "execution_count": null,
      "metadata": {
        "id": "ZxwdZkU9vY21",
        "outputId": "2cd4bd9a-861c-4983-aed5-f80da7678fea"
      },
      "outputs": [
        {
          "data": {
            "text/plain": [
              "dict_values([4, 7, 9])"
            ]
          },
          "execution_count": 42,
          "metadata": {},
          "output_type": "execute_result"
        }
      ],
      "source": [
        "fruits.values()"
      ]
    },
    {
      "cell_type": "code",
      "execution_count": null,
      "metadata": {
        "id": "X-NmCU54vY21",
        "outputId": "2e69200d-b1c4-4e7f-cfdb-56e3ba0b8c88"
      },
      "outputs": [
        {
          "data": {
            "text/plain": [
              "dict_items([('banana', 4), ('apple', 7), ('orange', 9)])"
            ]
          },
          "execution_count": 43,
          "metadata": {},
          "output_type": "execute_result"
        }
      ],
      "source": [
        "fruits.items()"
      ]
    },
    {
      "cell_type": "markdown",
      "metadata": {
        "id": "apbW9Mj0vY21"
      },
      "source": [
        "## Control structures\n",
        "\n",
        "Notice the colons and identation!\n",
        "\n",
        "* [Python conditions](https://www.w3schools.com/python/python_conditions.asp)\n",
        "* [Python for loop](https://www.w3schools.com/python/python_for_loops.asp)"
      ]
    },
    {
      "cell_type": "code",
      "execution_count": null,
      "metadata": {
        "id": "AFy57rW9vY21",
        "outputId": "f8020b59-10aa-440b-e4be-35882ea47587"
      },
      "outputs": [
        {
          "name": "stdout",
          "output_type": "stream",
          "text": [
            "You are ok\n"
          ]
        }
      ],
      "source": [
        "i_am = 'ok'\n",
        "if i_am == 'ok':\n",
        "    print('You are ok')\n",
        "elif i_am == 'great':\n",
        "    print('You are great')\n",
        "else:\n",
        "    print(\"I don't know how you are!\")"
      ]
    },
    {
      "cell_type": "code",
      "execution_count": null,
      "metadata": {
        "id": "mba9-y6pvY21",
        "outputId": "52974bfd-bab3-4cb5-ee91-9eb22601131d"
      },
      "outputs": [
        {
          "name": "stdout",
          "output_type": "stream",
          "text": [
            "0\n",
            "1\n",
            "2\n"
          ]
        }
      ],
      "source": [
        "for j in range(3):\n",
        "    print(j)"
      ]
    },
    {
      "cell_type": "code",
      "execution_count": null,
      "metadata": {
        "id": "gJhFFGSSvY21",
        "outputId": "8c99a66b-7eb7-4b8c-bda7-60111c6296e3"
      },
      "outputs": [
        {
          "name": "stdout",
          "output_type": "stream",
          "text": [
            "Hi Carl!\n",
            "Hi Chan!\n",
            "Hi Clarice!\n"
          ]
        }
      ],
      "source": [
        "names = ['Carl','Chan','Clarice']\n",
        "for name in names:\n",
        "    print(f'Hi {name}!')"
      ]
    },
    {
      "cell_type": "markdown",
      "metadata": {
        "id": "9Xa_kuaYvY21"
      },
      "source": [
        "A loop can also be expressed using special syntax known as a list comprehension."
      ]
    },
    {
      "cell_type": "code",
      "execution_count": null,
      "metadata": {
        "id": "0JleBYjmvY24",
        "outputId": "96ee10b4-e56e-4c4f-9ec4-2f5be7dcfabf"
      },
      "outputs": [
        {
          "data": {
            "text/plain": [
              "['carl', 'chan', 'clarice']"
            ]
          },
          "execution_count": 47,
          "metadata": {},
          "output_type": "execute_result"
        }
      ],
      "source": [
        "lnames = [name.lower() for name in names]\n",
        "lnames"
      ]
    },
    {
      "cell_type": "markdown",
      "metadata": {
        "id": "b6QjcoTPvY24"
      },
      "source": [
        "## Functions\n",
        "\n",
        "It is very useful to create your own functions to collect code that belongs together in a function, which can be reused in several places in your code without copying and pasting the entire snippet."
      ]
    },
    {
      "cell_type": "code",
      "execution_count": null,
      "metadata": {
        "id": "56fx3dO2vY24"
      },
      "outputs": [],
      "source": [
        "import re\n",
        "\n",
        "def clean_name(name):\n",
        "    \"Clean and short name\"\n",
        "    clean = re.sub('[^A-Za-z0-9]+', '', name)\n",
        "    short = clean[:15]\n",
        "    lower = short.lower()\n",
        "    return lower"
      ]
    },
    {
      "cell_type": "code",
      "execution_count": null,
      "metadata": {
        "id": "9XMMwTh3vY24",
        "outputId": "0f07bed6-1e56-4bdb-8692-a499de75bcab"
      },
      "outputs": [
        {
          "data": {
            "text/plain": [
              "'whatalousylongn'"
            ]
          },
          "execution_count": 49,
          "metadata": {},
          "output_type": "execute_result"
        }
      ],
      "source": [
        "clean_name(\"#What a lousy & long name\")"
      ]
    },
    {
      "cell_type": "code",
      "execution_count": null,
      "metadata": {
        "id": "bZvQE3YEvY25",
        "outputId": "f069c5dc-4c8d-44bf-d3e0-b1e5a6fbfbf7"
      },
      "outputs": [
        {
          "data": {
            "text/plain": [
              "'goodname'"
            ]
          },
          "execution_count": 50,
          "metadata": {},
          "output_type": "execute_result"
        }
      ],
      "source": [
        "clean_name(\"goodname\")"
      ]
    },
    {
      "cell_type": "code",
      "execution_count": null,
      "metadata": {
        "id": "QkJ5rPnJvY25"
      },
      "outputs": [],
      "source": [
        "long_and_ugly_names = [\"Wave Height # Modelled\", \"Wave Period # Modelled\", \"Wave Direction # Modelled\"]"
      ]
    },
    {
      "cell_type": "markdown",
      "metadata": {
        "id": "krPcfHO8vY25"
      },
      "source": [
        "Combine a list comprehension with your own function"
      ]
    },
    {
      "cell_type": "code",
      "execution_count": null,
      "metadata": {
        "id": "1ivoe2DPvY25",
        "outputId": "808236b9-b30c-44f4-c788-c15f2162a8cc"
      },
      "outputs": [
        {
          "data": {
            "text/plain": [
              "['waveheightmodel', 'waveperiodmodel', 'wavedirectionmo']"
            ]
          },
          "execution_count": 52,
          "metadata": {},
          "output_type": "execute_result"
        }
      ],
      "source": [
        "[clean_name(x) for x in long_and_ugly_names]"
      ]
    },
    {
      "cell_type": "code",
      "execution_count": null,
      "metadata": {
        "id": "SJyv_kVTvY25"
      },
      "outputs": [],
      "source": []
    }
  ],
  "metadata": {
    "interpreter": {
      "hash": "f4041ee05ab07c15354d6207e763f17a216c3f5ccf08906343c2b4fd3fa7a6fb"
    },
    "kernelspec": {
      "display_name": "Python 3 (ipykernel)",
      "language": "python",
      "name": "python3"
    },
    "language_info": {
      "codemirror_mode": {
        "name": "ipython",
        "version": 3
      },
      "file_extension": ".py",
      "mimetype": "text/x-python",
      "name": "python",
      "nbconvert_exporter": "python",
      "pygments_lexer": "ipython3",
      "version": "3.10.12"
    },
    "colab": {
      "provenance": []
    }
  },
  "nbformat": 4,
  "nbformat_minor": 0
}